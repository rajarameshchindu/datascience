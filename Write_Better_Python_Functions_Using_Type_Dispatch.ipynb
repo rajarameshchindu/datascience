{
  "nbformat": 4,
  "nbformat_minor": 0,
  "metadata": {
    "colab": {
      "name": "Welcome To Colaboratory",
      "provenance": [],
      "collapsed_sections": [],
      "toc_visible": true,
      "include_colab_link": true
    },
    "kernelspec": {
      "display_name": "Python 3",
      "name": "python3"
    }
  },
  "cells": [
    {
      "cell_type": "markdown",
      "metadata": {
        "id": "view-in-github",
        "colab_type": "text"
      },
      "source": [
        "<a href=\"https://colab.research.google.com/github/rajarameshchindu/datascience/blob/master/Write_Better_Python_Functions_Using_Type_Dispatch.ipynb\" target=\"_parent\"><img src=\"https://colab.research.google.com/assets/colab-badge.svg\" alt=\"Open In Colab\"/></a>"
      ]
    },
    {
      "cell_type": "markdown",
      "metadata": {
        "id": "Q1NYRKfUB7HR"
      },
      "source": [
        "https://www.analyticsvidhya.com/blog/2021/04/write-better-python-functions-using-type-dispatch/?utm_source=feedburner&utm_medium=email&utm_campaign=Feed%3A+AnalyticsVidhya+%28Analytics+Vidhya%29"
      ]
    },
    {
      "cell_type": "code",
      "metadata": {
        "id": "kgplosvVBnlo"
      },
      "source": [
        "# Import required libraries\n",
        "import numpy as np\n",
        "import torch\n",
        "from PIL import Image as PILImage\n",
        "\n",
        "# Set Torch device to GPU if CUDA supported GPU is available\n",
        "device = torch.device('cuda' if torch.cuda.is_available() else 'cpu')\n",
        "\n",
        "# Function to convert image to Torch tensor\n",
        "def Tensor(inp):\n",
        "    \n",
        "    # Read image from disk using PIL Image\n",
        "    img = PILImage.open(inp).convert('RGB')\n",
        "    \n",
        "    # Convert the image to numpy ndarray\n",
        "    imgArr = np.asarray(img, np.uint8)\n",
        "    \n",
        "    # Rearrange the shape of the array so that it is pytorch compatible\n",
        "    imgArr = imgArr.transpose(2, 0, 1)\n",
        "    \n",
        "    # Convert Numpy array to Torch Tensor and move it to device\n",
        "    return torch.from_numpy(imgArr).to(device)"
      ],
      "execution_count": 1,
      "outputs": []
    },
    {
      "cell_type": "code",
      "metadata": {
        "colab": {
          "base_uri": "https://localhost:8080/"
        },
        "id": "l7jmr2QdBoW2",
        "outputId": "781f47bc-7dc3-4e7b-e3f7-bd66aebd200e"
      },
      "source": [
        "# Download a sample image to disk\n",
        "import urllib.request \n",
        "\n",
        "url = \"https://upload.wikimedia.org/wikipedia/commons/thumb/c/c3/Python-logo-notext.svg/200px-Python-logo-notext.svg.png\"\n",
        "filename = \"sample.png\"\n",
        "urllib.request.urlretrieve(url, filename)"
      ],
      "execution_count": 2,
      "outputs": [
        {
          "output_type": "execute_result",
          "data": {
            "text/plain": [
              "('sample.png', <http.client.HTTPMessage at 0x7f834fb61550>)"
            ]
          },
          "metadata": {
            "tags": []
          },
          "execution_count": 2
        }
      ]
    },
    {
      "cell_type": "code",
      "metadata": {
        "id": "li-gZOtXB4sE"
      },
      "source": [
        ""
      ],
      "execution_count": null,
      "outputs": []
    },
    {
      "cell_type": "markdown",
      "metadata": {
        "id": "aZ-Ac8M3B55M"
      },
      "source": [
        ""
      ]
    }
  ]
}